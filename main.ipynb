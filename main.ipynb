{
 "cells": [
  {
   "cell_type": "code",
   "execution_count": 38,
   "metadata": {},
   "outputs": [
    {
     "name": "stdout",
     "output_type": "stream",
     "text": [
      "True\n",
      "1\n",
      "cpu\n"
     ]
    }
   ],
   "source": [
    "import string\n",
    "\n",
    "import torch\n",
    "\n",
    "# device = torch.device(\"cuda\" if torch.cuda.is_available() else \"cpu\")\n",
    "device = \"cpu\"\n",
    "\n",
    "print(torch.cuda.is_available())\n",
    "print(torch.cuda.device_count())\n",
    "print(device)"
   ]
  },
  {
   "cell_type": "code",
   "execution_count": 61,
   "metadata": {},
   "outputs": [
    {
     "data": {
      "text/plain": [
       "tensor([[ 43,  18,  75,  75, 101, 101, 100, 100, 100, 103, 103, 103, 103, 103,\n",
       "         103],\n",
       "        [ 55,  17,  18,  28,  94,  18,  28,  94,  10,  94,  28,  14,  12,  24,\n",
       "          23]], dtype=torch.int32)"
      ]
     },
     "execution_count": 61,
     "metadata": {},
     "output_type": "execute_result"
    }
   ],
   "source": [
    "EOS = \"eos\"\n",
    "PAD_1 = \"pad1\"\n",
    "UNK = \"unk\"\n",
    "PAD_2 = \"pad2\"\n",
    "\n",
    "CHAR_TOKENS: list[str] = list(string.printable) + [EOS, PAD_1, UNK, PAD_2]\n",
    "NGRAM_SIZE: int = 3\n",
    "HIDDEN_SIZE: int = 768\n",
    "MAX_SEQ_LEN = 16\n",
    "\n",
    "\n",
    "num_chars = len(CHAR_TOKENS)\n",
    "char_to_idx = {c: i for i, c in enumerate(CHAR_TOKENS)}\n",
    "\n",
    "\n",
    "def tokenize(seq: str):\n",
    "    seq = list(seq)\n",
    "    # Pad such that len(seq) is divisible by NGRAM_SIZE\n",
    "    if len(seq) % NGRAM_SIZE > 0:\n",
    "        seq += [PAD_1] * (NGRAM_SIZE - (len(seq) % NGRAM_SIZE))\n",
    "    seq += [EOS] * NGRAM_SIZE\n",
    "    return torch.tensor([char_to_idx[c] for c in seq])\n",
    "\n",
    "\n",
    "def collate(tokenized_seqs: list[torch.tensor]):\n",
    "    \"\"\"Pad short seqs, truncate long seqs.\n",
    "    \"\"\"\n",
    "    tokenized_seqs = [tokenize(x)[: MAX_SEQ_LEN - 1] for x in example_data]\n",
    "    max_len = max(x.shape[-1] for x in tokenized_seqs)\n",
    "    result = torch.full(\n",
    "        size=[len(tokenized_seqs), max_len], fill_value=char_to_idx[PAD_2], dtype=torch.int\n",
    "    )\n",
    "    for i, x in enumerate(tokenized_seqs):\n",
    "        result[i, 0 : len(x)] = x\n",
    "    return result\n",
    "\n",
    "\n",
    "example_data = [\"Hi..\", \"This is a second sentence.\"]\n",
    "collate([tokenize(s) for s in example_data])"
   ]
  },
  {
   "cell_type": "code",
   "execution_count": 4,
   "metadata": {},
   "outputs": [],
   "source": [
    "# An embedding table for each slot in the the ngram, (e.g. 0, 1, 2 for a NGRAM_SIZE=3).\n",
    "ngram_embeddings = [\n",
    "    torch.nn.Embedding(num_embeddings=num_chars, embedding_dim=HIDDEN_SIZE)\n",
    "    for _ in range(NGRAM_SIZE)\n",
    "]"
   ]
  },
  {
   "cell_type": "code",
   "execution_count": 5,
   "metadata": {},
   "outputs": [
    {
     "data": {
      "text/plain": [
       "tensor([[-0.4735,  2.0881,  4.7124,  ...,  0.6942,  2.9293, -1.5267],\n",
       "        [-1.1553,  0.1940, -0.4858,  ..., -2.4012,  3.5435, -0.4625],\n",
       "        [-1.3504, -1.3928, -0.0316,  ...,  0.6737,  1.0648,  1.6953],\n",
       "        ...,\n",
       "        [ 0.8786,  1.0970,  3.6359,  ...,  0.2867, -0.8149, -0.2832],\n",
       "        [ 0.0515,  0.0914,  0.8045,  ...,  1.6901,  0.3185, -0.9622],\n",
       "        [ 1.4446,  0.9301, -1.5488,  ...,  1.5180,  0.0222,  1.8606]],\n",
       "       grad_fn=<SumBackward1>)"
      ]
     },
     "execution_count": 5,
     "metadata": {},
     "output_type": "execute_result"
    }
   ],
   "source": [
    "def get_input_embeddings(seq: str):\n",
    "    # Pad sequence if not divisble by NGRAM_SIZE.\n",
    "    seq = list(seq) + (NGRAM_SIZE - len(seq) % NGRAM_SIZE) * [PAD_1]\n",
    "    result = []\n",
    "    for ngram_slot_idx in range(NGRAM_SIZE):\n",
    "        ngram_slot_chars = seq[ngram_slot_idx : len(seq) : NGRAM_SIZE]\n",
    "        ngram_slot_char_idxs = torch.tensor([char_to_idx[c] for c in ngram_slot_chars])\n",
    "        ngram_slot_embeddings = ngram_embeddings[ngram_slot_idx](ngram_slot_char_idxs)\n",
    "        result.append(ngram_slot_embeddings)\n",
    "    result = torch.stack(result).sum(dim=0)\n",
    "    return result\n",
    "\n",
    "\n",
    "seq = \"This is a test sentence. \"\n",
    "get_input_embeddings(seq)"
   ]
  },
  {
   "cell_type": "code",
   "execution_count": 66,
   "metadata": {},
   "outputs": [],
   "source": [
    "from transformers import RobertaConfig, RobertaForMaskedLM\n",
    "\n",
    "model = RobertaForMaskedLM(\n",
    "    config=RobertaConfig(\n",
    "        vocab_size=2,  # won't use\n",
    "        hidden_size=HIDDEN_SIZE,  # default 768\n",
    "        max_position_embeddings=514,\n",
    "        num_attention_heads=12,\n",
    "        num_hidden_layers=6,\n",
    "        type_vocab_size=1,\n",
    "        attention_probs_dropout_prob=0,\n",
    "        hidden_dropout_prob=0,\n",
    "    )\n",
    ")"
   ]
  },
  {
   "cell_type": "code",
   "execution_count": 67,
   "metadata": {},
   "outputs": [],
   "source": [
    "cn_embeddings = torch.rand([1, 5, HIDDEN_SIZE])\n",
    "lm_embeddings = model.roberta.forward(inputs_embeds=cn_embeddings).last_hidden_state\n",
    "# then decode the lm embeddings back to chars"
   ]
  }
 ],
 "metadata": {
  "kernelspec": {
   "display_name": "cnt",
   "language": "python",
   "name": "python3"
  },
  "language_info": {
   "codemirror_mode": {
    "name": "ipython",
    "version": 3
   },
   "file_extension": ".py",
   "mimetype": "text/x-python",
   "name": "python",
   "nbconvert_exporter": "python",
   "pygments_lexer": "ipython3",
   "version": "3.9.16"
  },
  "orig_nbformat": 4
 },
 "nbformat": 4,
 "nbformat_minor": 2
}
