{
 "cells": [
  {
   "cell_type": "code",
   "execution_count": 23,
   "metadata": {},
   "outputs": [
    {
     "name": "stdout",
     "output_type": "stream",
     "text": [
      "True\n",
      "1\n",
      "cuda\n"
     ]
    }
   ],
   "source": [
    "import string\n",
    "\n",
    "import torch\n",
    "\n",
    "device = torch.device(\"cuda\" if torch.cuda.is_available() else \"cpu\")\n",
    "\n",
    "print(torch.cuda.is_available())\n",
    "print(torch.cuda.device_count())\n",
    "print(device)"
   ]
  },
  {
   "cell_type": "code",
   "execution_count": 31,
   "metadata": {},
   "outputs": [],
   "source": [
    "EOS = \"/s\"\n",
    "PAD = \"pad\"\n",
    "UNK = \"unk\"\n",
    "\n",
    "CHARS: str = string.printable\n",
    "CHAR_TOKENS: list[str] = list(CHARS) + [EOS, PAD, UNK]\n",
    "NGRAM_SIZE: int = 3\n",
    "HIDDEN_SIZE: int = 768\n",
    "\n",
    "num_chars = len(CHAR_TOKENS)\n",
    "char_to_idx = {c: i for i, c in enumerate(CHAR_TOKENS)}"
   ]
  },
  {
   "cell_type": "code",
   "execution_count": null,
   "metadata": {},
   "outputs": [],
   "source": [
    "# An Embedding for each slot in the the ngram, (e.g. 1, 2, 3 for a NGRAM_SIZE=3).\n",
    "ngram_char_embeddings = [\n",
    "    torch.nn.Embedding(num_embeddings=num_chars, embedding_dim=HIDDEN_SIZE)\n",
    "    for _ in range(NGRAM_SIZE)\n",
    "]"
   ]
  },
  {
   "cell_type": "code",
   "execution_count": 44,
   "metadata": {},
   "outputs": [
    {
     "name": "stdout",
     "output_type": "stream",
     "text": [
      "torch.Size([9, 768])\n"
     ]
    }
   ],
   "source": [
    "seq = \"This is a test sentence. \"\n",
    "# Pad sequence if not divisble by NGRAM_SIZE.\n",
    "seq = list(seq) + (NGRAM_SIZE - len(seq) % NGRAM_SIZE) * [PAD]\n",
    "result = []\n",
    "for ngram_slot_idx in range(NGRAM_SIZE):\n",
    "    ngram_slot_chars = seq[ngram_slot_idx : len(seq) : NGRAM_SIZE]\n",
    "    ngram_slot_char_idxs = torch.tensor([char_to_idx[c] for c in ngram_slot_chars])\n",
    "    ngram_slot_embeddings = ngram_char_embeddings[ngram_slot_idx](ngram_slot_char_idxs)\n",
    "    result.append(ngram_slot_embeddings)\n",
    "result = torch.stack(result).sum(dim=0)\n",
    "print(result.shape)"
   ]
  },
  {
   "cell_type": "code",
   "execution_count": 66,
   "metadata": {},
   "outputs": [],
   "source": [
    "from transformers import RobertaConfig, RobertaForMaskedLM\n",
    "\n",
    "model = RobertaForMaskedLM(\n",
    "    config=RobertaConfig(\n",
    "        vocab_size=2,  # won't use\n",
    "        hidden_size=HIDDEN_SIZE,  # default 768\n",
    "        max_position_embeddings=514,\n",
    "        num_attention_heads=12,\n",
    "        num_hidden_layers=6,\n",
    "        type_vocab_size=1,\n",
    "        attention_probs_dropout_prob=0,\n",
    "        hidden_dropout_prob=0,\n",
    "    )\n",
    ")"
   ]
  },
  {
   "cell_type": "code",
   "execution_count": 67,
   "metadata": {},
   "outputs": [],
   "source": [
    "cn_embeddings = torch.rand([1, 5, HIDDEN_SIZE])\n",
    "lm_embeddings = model.roberta.forward(inputs_embeds=cn_embeddings).last_hidden_state\n",
    "# then decode the lm embeddings back to chars"
   ]
  },
  {
   "cell_type": "code",
   "execution_count": null,
   "metadata": {},
   "outputs": [],
   "source": []
  }
 ],
 "metadata": {
  "kernelspec": {
   "display_name": "cnt",
   "language": "python",
   "name": "python3"
  },
  "language_info": {
   "codemirror_mode": {
    "name": "ipython",
    "version": 3
   },
   "file_extension": ".py",
   "mimetype": "text/x-python",
   "name": "python",
   "nbconvert_exporter": "python",
   "pygments_lexer": "ipython3",
   "version": "3.9.16"
  },
  "orig_nbformat": 4
 },
 "nbformat": 4,
 "nbformat_minor": 2
}
