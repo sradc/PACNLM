{
 "cells": [
  {
   "cell_type": "code",
   "execution_count": 3,
   "metadata": {},
   "outputs": [
    {
     "name": "stdout",
     "output_type": "stream",
     "text": [
      "True\n",
      "1\n",
      "cpu\n"
     ]
    }
   ],
   "source": [
    "import random\n",
    "import string\n",
    "\n",
    "import torch\n",
    "from torch.utils.data import Dataset\n",
    "from transformers import RobertaConfig, RobertaForMaskedLM, RobertaTokenizer\n",
    "from transformers.modeling_outputs import MaskedLMOutput\n",
    "\n",
    "\n",
    "# device = torch.device(\"cuda\" if torch.cuda.is_available() else \"cpu\")\n",
    "device = \"cpu\"\n",
    "\n",
    "print(torch.cuda.is_available())\n",
    "print(torch.cuda.device_count())\n",
    "print(device)"
   ]
  },
  {
   "cell_type": "code",
   "execution_count": 4,
   "metadata": {},
   "outputs": [
    {
     "name": "stdout",
     "output_type": "stream",
     "text": [
      "tensor([[ 43,  18,  75,  75, 101, 101, 100, 100, 100, 103, 103, 103, 103, 103,\n",
      "         103],\n",
      "        [ 55,  17,  18,  28,  94,  18,  28,  94,  10,  94,  28,  14,  12,  24,\n",
      "          23]])\n",
      "tensor([[ 43,  18,  75,  75, 101, 101, 104, 104, 104, 103, 103, 103, 104, 104,\n",
      "         104],\n",
      "        [ 55,  17,  18,  28,  94,  18,  28,  94,  10,  94,  28,  14,  12,  24,\n",
      "          23]])\n",
      "tensor([[1, 1, 1, 1, 1, 1, 1, 1, 1, 0, 0, 0, 0, 0, 0],\n",
      "        [1, 1, 1, 1, 1, 1, 1, 1, 1, 1, 1, 1, 1, 1, 1]])\n"
     ]
    }
   ],
   "source": [
    "EOS = \"eos\"\n",
    "CHAR_PAD = \"char_pad\"\n",
    "UNK = \"unk\"\n",
    "NGRAM_PAD = \"ngram_pad\"\n",
    "MASK = \"mask\"\n",
    "\n",
    "CHAR_TOKENS: list[str] = list(string.printable) + [EOS, CHAR_PAD, UNK, NGRAM_PAD, MASK]\n",
    "NGRAM_SIZE: int = 3\n",
    "HIDDEN_SIZE: int = 768\n",
    "MAX_SEQ_LEN = 16\n",
    "PROB_MASK = 0.15\n",
    "\n",
    "\n",
    "num_chars = len(CHAR_TOKENS)\n",
    "char_to_idx = {c: i for i, c in enumerate(CHAR_TOKENS)}\n",
    "\n",
    "\n",
    "def tokenize(seq: str):\n",
    "    seq = list(seq)\n",
    "    # Pad such that len(seq) is divisible by NGRAM_SIZE\n",
    "    if len(seq) % NGRAM_SIZE > 0:\n",
    "        seq += [CHAR_PAD] * (NGRAM_SIZE - (len(seq) % NGRAM_SIZE))\n",
    "    seq += [EOS] * NGRAM_SIZE\n",
    "    return torch.tensor([char_to_idx[c] for c in seq])\n",
    "\n",
    "\n",
    "def collate(tokenized_seqs: list[torch.tensor], masking_probability: float = 0.15):\n",
    "    \"\"\"Pad short seqs, truncate long seqs.\"\"\"\n",
    "    tokenized_seqs = [tokenize(x)[: MAX_SEQ_LEN - 1] for x in example_data]\n",
    "    max_len = max(x.shape[-1] for x in tokenized_seqs)\n",
    "    labels = torch.full(\n",
    "        size=[len(tokenized_seqs), max_len],\n",
    "        fill_value=char_to_idx[NGRAM_PAD],\n",
    "        dtype=torch.long,\n",
    "    )\n",
    "    attention_mask = torch.ones_like(labels)\n",
    "    for i, x in enumerate(tokenized_seqs):\n",
    "        labels[i, 0 : len(x)] = x\n",
    "        attention_mask[i, len(x) :] = 0\n",
    "    # Masking\n",
    "    masked_labels = labels.clone().detach()\n",
    "    for row_idx in range(masked_labels.shape[0]):\n",
    "        for ngram_idx in range(0, masked_labels.shape[1], NGRAM_SIZE):\n",
    "            if random.random() < masking_probability:\n",
    "                masked_labels[\n",
    "                    row_idx, ngram_idx : ngram_idx + NGRAM_SIZE\n",
    "                ] = char_to_idx[MASK]\n",
    "    return labels, masked_labels, attention_mask\n",
    "\n",
    "\n",
    "example_data = [\"Hi..\", \"This is a second sentence.\"]\n",
    "example_x_batch, masked_labels, attention_mask = collate(\n",
    "    [tokenize(s) for s in example_data]\n",
    ")\n",
    "example_x_batch.shape\n",
    "print(example_x_batch)\n",
    "print(masked_labels)\n",
    "print(attention_mask)"
   ]
  },
  {
   "cell_type": "code",
   "execution_count": 5,
   "metadata": {},
   "outputs": [],
   "source": [
    "class EsperantoDataset(Dataset):\n",
    "    def __init__(self, evaluate: bool = False):\n",
    "        self.examples = [random.choices(string.printable, 10) for _ in range(1000)]\n",
    "\n",
    "    def __len__(self):\n",
    "        return len(self.examples)\n",
    "\n",
    "    def __getitem__(self, i):\n",
    "        # We’ll pad at the batch level.\n",
    "        return tokenize(self.examples[i])"
   ]
  },
  {
   "cell_type": "code",
   "execution_count": 36,
   "metadata": {},
   "outputs": [],
   "source": [
    "class CharModel(torch.nn.Module):\n",
    "    def __init__(self):\n",
    "        super().__init__()\n",
    "        # An embedding table for each slot in the the ngram, (e.g. 0, 1, 2 for a NGRAM_SIZE=3).\n",
    "        self.ngram_embedding_tables = [\n",
    "            torch.nn.Embedding(\n",
    "                num_embeddings=num_chars,\n",
    "                embedding_dim=HIDDEN_SIZE,\n",
    "                padding_idx=char_to_idx[NGRAM_PAD],\n",
    "            )\n",
    "            for _ in range(NGRAM_SIZE)\n",
    "        ]\n",
    "        self.language_model = RobertaForMaskedLM(\n",
    "            config=RobertaConfig(\n",
    "                vocab_size=2,  # won't use\n",
    "                hidden_size=HIDDEN_SIZE,  # default 768\n",
    "                max_position_embeddings=514,\n",
    "                num_attention_heads=12,\n",
    "                num_hidden_layers=6,\n",
    "                type_vocab_size=1,\n",
    "                attention_probs_dropout_prob=0,\n",
    "                hidden_dropout_prob=0,\n",
    "            )\n",
    "        )\n",
    "        # To map from the lm embeddings back to the chars\n",
    "        self.ngram_prediction_heads = [\n",
    "            torch.nn.Linear(HIDDEN_SIZE, num_chars) for _ in range(NGRAM_SIZE)\n",
    "        ]\n",
    "\n",
    "    def forward(self, x_batch):\n",
    "        input_embeddings = self.get_input_embeddings(x_batch)\n",
    "        lm_embeddings = self.language_model.roberta.forward(\n",
    "            inputs_embeds=input_embeddings,\n",
    "            attention_mask=attention_mask[:, ::NGRAM_SIZE],\n",
    "        ).last_hidden_state\n",
    "        logits = self.get_predicted_char_logits(lm_embeddings)\n",
    "        return logits, lm_embeddings, input_embeddings\n",
    "\n",
    "    def get_loss(self, logits, labels):\n",
    "        return torch.nn.functional.cross_entropy(\n",
    "            logits.reshape(-1, num_chars), labels.reshape(-1)\n",
    "        )\n",
    "\n",
    "    def get_input_embeddings(self, x_batch: torch.tensor):\n",
    "        x_batch = example_x_batch\n",
    "        result = []\n",
    "        for ngram_slot_idx in range(NGRAM_SIZE):\n",
    "            ngram_slot_embeddings = self.ngram_embedding_tables[ngram_slot_idx](\n",
    "                x_batch[:, ngram_slot_idx::NGRAM_SIZE]\n",
    "            )\n",
    "            result.append(ngram_slot_embeddings)\n",
    "        result = torch.stack(result).sum(dim=0)\n",
    "        return result\n",
    "\n",
    "    def get_predicted_char_logits(self, xbatch_lm_embeddings: torch.tensor):\n",
    "        \"\"\"Map from the lm embeddings back to the chars\"\"\"\n",
    "        result = []\n",
    "        for ngram_slot_idx in range(NGRAM_SIZE):\n",
    "            predicted_char = self.ngram_prediction_heads[ngram_slot_idx](\n",
    "                xbatch_lm_embeddings\n",
    "            )\n",
    "            result.append(predicted_char)\n",
    "        result = torch.concatenate(result, dim=1)\n",
    "        return result"
   ]
  },
  {
   "cell_type": "code",
   "execution_count": 38,
   "metadata": {},
   "outputs": [
    {
     "name": "stdout",
     "output_type": "stream",
     "text": [
      "torch.Size([2, 15, 105])\n",
      "torch.Size([2, 15])\n",
      "tensor(4.7036, grad_fn=<NllLossBackward0>)\n"
     ]
    }
   ],
   "source": [
    "model = CharModel()\n",
    "logits = model(example_x_batch)[0]\n",
    "loss = model.get_loss(logits, example_x_batch)\n",
    "\n",
    "print(logits.shape)\n",
    "print(example_x_batch.shape)\n",
    "print(loss)"
   ]
  },
  {
   "cell_type": "code",
   "execution_count": 11,
   "metadata": {},
   "outputs": [],
   "source": [
    "# TODO: find out how to use custom model with huggingface trainer\n",
    "# TODO: dataset + dataloader"
   ]
  }
 ],
 "metadata": {
  "kernelspec": {
   "display_name": "cnt",
   "language": "python",
   "name": "python3"
  },
  "language_info": {
   "codemirror_mode": {
    "name": "ipython",
    "version": 3
   },
   "file_extension": ".py",
   "mimetype": "text/x-python",
   "name": "python",
   "nbconvert_exporter": "python",
   "pygments_lexer": "ipython3",
   "version": "3.9.16"
  },
  "orig_nbformat": 4
 },
 "nbformat": 4,
 "nbformat_minor": 2
}
