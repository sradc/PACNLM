{
 "cells": [
  {
   "cell_type": "code",
   "execution_count": 1,
   "metadata": {},
   "outputs": [
    {
     "name": "stderr",
     "output_type": "stream",
     "text": [
      "/home/sid/miniconda3/envs/cnt/lib/python3.9/site-packages/tqdm/auto.py:21: TqdmWarning: IProgress not found. Please update jupyter and ipywidgets. See https://ipywidgets.readthedocs.io/en/stable/user_install.html\n",
      "  from .autonotebook import tqdm as notebook_tqdm\n"
     ]
    },
    {
     "name": "stdout",
     "output_type": "stream",
     "text": [
      "True\n",
      "1\n",
      "cuda\n"
     ]
    }
   ],
   "source": [
    "from pathlib import Path\n",
    "\n",
    "import random\n",
    "import string\n",
    "\n",
    "from datasets import load_dataset\n",
    "import torch\n",
    "from torch.utils.data import Dataset\n",
    "from transformers import RobertaConfig, RobertaForMaskedLM, RobertaTokenizer\n",
    "from transformers.modeling_outputs import MaskedLMOutput\n",
    "from tokenizers import normalizers\n",
    "\n",
    "\n",
    "device = torch.device(\"cuda\" if torch.cuda.is_available() else \"cpu\")\n",
    "# device = \"cpu\"\n",
    "\n",
    "print(torch.cuda.is_available())\n",
    "print(torch.cuda.device_count())\n",
    "print(device)"
   ]
  },
  {
   "cell_type": "code",
   "execution_count": 2,
   "metadata": {},
   "outputs": [],
   "source": [
    "CLS = \"<cls>\"\n",
    "EOS = \"<eos>\"\n",
    "CHAR_PAD = \"<char_pad>\"\n",
    "UNK = \"<unk>\"\n",
    "NGRAM_PAD = \"<ngram_pad>\"\n",
    "MASK = \"<mask>\"\n",
    "\n",
    "CHAR_TOKENS: list[str] = list(string.printable) + [CLS, EOS, CHAR_PAD, UNK, NGRAM_PAD, MASK]\n",
    "NGRAM_SIZE: int = 8\n",
    "NUM_ATTENTION_HEADS: int = 12\n",
    "HIDDEN_SIZE: int = 1536 # multiple of NUM_ATTENTION_HEADS, 768 default\n",
    "MAX_SEQ_LEN: int = NGRAM_SIZE * 20  # multiple of NGRAM_SIZE\n",
    "PROB_MASK: float = 0.15\n",
    "\n",
    "\n",
    "num_chars = len(CHAR_TOKENS)\n",
    "char_to_idx = {c: i for i, c in enumerate(CHAR_TOKENS)}\n",
    "idx_to_char = {i: c for i, c in enumerate(CHAR_TOKENS)}\n",
    "\n",
    "normalizer = normalizers.Sequence(\n",
    "    [normalizers.NFD(), normalizers.Lowercase(), normalizers.StripAccents()]\n",
    ")\n",
    "\n",
    "\n",
    "def tokenize(seq: str):\n",
    "    seq = normalizer.normalize_str(seq)\n",
    "    seq = [CLS] + list(seq)\n",
    "    # Pad such that len(seq) is divisible by NGRAM_SIZE\n",
    "    if len(seq) % NGRAM_SIZE > 0:\n",
    "        seq += [CHAR_PAD] * (NGRAM_SIZE - (len(seq) % NGRAM_SIZE))\n",
    "    seq += [EOS] * NGRAM_SIZE\n",
    "    return torch.tensor(\n",
    "        [char_to_idx[c] if c in char_to_idx else char_to_idx[UNK] for c in seq]\n",
    "    )\n",
    "\n",
    "\n",
    "def collate(tokenized_seqs: list[torch.tensor], masking_probability: float = PROB_MASK):\n",
    "    \"\"\"Pad short seqs, truncate long seqs.\"\"\"\n",
    "    tokenized_seqs = [x[: MAX_SEQ_LEN] for x in tokenized_seqs]\n",
    "    max_len = max(x.shape[-1] for x in tokenized_seqs)\n",
    "    labels = torch.full(\n",
    "        size=[len(tokenized_seqs), max_len],\n",
    "        fill_value=char_to_idx[NGRAM_PAD],\n",
    "        dtype=torch.long,\n",
    "    )\n",
    "    attention_mask = torch.ones_like(labels)\n",
    "    for i, x in enumerate(tokenized_seqs):\n",
    "        labels[i, 0 : len(x)] = x\n",
    "        attention_mask[i, len(x) :] = 0\n",
    "    # Masking, on ngram level rather than char\n",
    "    masked_labels = labels.clone().detach()\n",
    "    for row_idx in range(masked_labels.shape[0]):\n",
    "        for ngram_idx in range(0, masked_labels.shape[1], NGRAM_SIZE):\n",
    "            if random.random() < masking_probability:\n",
    "                masked_labels[\n",
    "                    row_idx, ngram_idx : ngram_idx + NGRAM_SIZE\n",
    "                ] = char_to_idx[MASK]\n",
    "    return {\n",
    "        \"labels\": labels,\n",
    "        \"masked_labels\": masked_labels,\n",
    "        \"attention_mask\": attention_mask,\n",
    "    }\n",
    "\n",
    "\n",
    "# example_data = [\"Hi..\", \"This is a second sentence.\"]\n",
    "# example_data_tokenized = collate([tokenize(s) for s in example_data])\n",
    "# print(example_data_tokenized)"
   ]
  },
  {
   "cell_type": "code",
   "execution_count": 3,
   "metadata": {},
   "outputs": [
    {
     "name": "stderr",
     "output_type": "stream",
     "text": [
      "Found cached dataset wikipedia (/media/bigdata/datasets/wikipedia/20220301.en/2.0.0/aa542ed919df55cc5d3347f42dd4521d05ca68751f50dbc32bae2a7f1e167559)\n",
      "Found cached dataset wikipedia (/media/bigdata/datasets/wikipedia/20220301.en/2.0.0/aa542ed919df55cc5d3347f42dd4521d05ca68751f50dbc32bae2a7f1e167559)\n"
     ]
    },
    {
     "name": "stdout",
     "output_type": "stream",
     "text": [
      "500\n",
      "100\n"
     ]
    }
   ],
   "source": [
    "class MyDataset(Dataset):\n",
    "    def __init__(self, split):\n",
    "        self.examples = load_dataset(\n",
    "            \"wikipedia\",\n",
    "            \"20220301.en\",\n",
    "            split=split,\n",
    "            cache_dir=\"/media/bigdata/datasets/\",\n",
    "        )\n",
    "\n",
    "    def __len__(self):\n",
    "        return len(self.examples)\n",
    "\n",
    "    def __getitem__(self, i):\n",
    "        text = self.examples[i][\"text\"]\n",
    "        if not type(text) == str:\n",
    "            text = \"\"\n",
    "        return tokenize(text)\n",
    "\n",
    "\n",
    "dataset_train = MyDataset(split=\"train[:500]\")\n",
    "dataset_eval = MyDataset(split=\"train[-100:]\")\n",
    "print(len(dataset_train))\n",
    "print(len(dataset_eval))"
   ]
  },
  {
   "cell_type": "code",
   "execution_count": 4,
   "metadata": {},
   "outputs": [],
   "source": [
    "class CharModel(torch.nn.Module):\n",
    "    def __init__(self):\n",
    "        super().__init__()\n",
    "        # An embedding table for each slot in the the ngram, (e.g. 0, 1, 2 for a NGRAM_SIZE=3).\n",
    "        self.ngram_embedding_tables = [\n",
    "            torch.nn.Embedding(\n",
    "                num_embeddings=num_chars,\n",
    "                embedding_dim=HIDDEN_SIZE,\n",
    "                padding_idx=char_to_idx[NGRAM_PAD],\n",
    "            )\n",
    "            for _ in range(NGRAM_SIZE)\n",
    "        ]\n",
    "        self.language_model = RobertaForMaskedLM(\n",
    "            config=RobertaConfig(\n",
    "                vocab_size=2,  # won't use\n",
    "                hidden_size=HIDDEN_SIZE,  # default 768\n",
    "                max_position_embeddings=514,\n",
    "                num_attention_heads=NUM_ATTENTION_HEADS,\n",
    "                num_hidden_layers=6,\n",
    "                type_vocab_size=1,\n",
    "                attention_probs_dropout_prob=0,\n",
    "                hidden_dropout_prob=0,\n",
    "            )\n",
    "        )\n",
    "        # To map from the lm embeddings back to the chars\n",
    "        self.ngram_prediction_heads = [\n",
    "            torch.nn.Linear(HIDDEN_SIZE, num_chars) for _ in range(NGRAM_SIZE)\n",
    "        ]\n",
    "\n",
    "    def forward(self, labels, masked_labels, attention_mask):\n",
    "        logits = self.predict(masked_labels, attention_mask)[0]\n",
    "        loss = self.get_loss(logits, labels)\n",
    "        return MaskedLMOutput(loss=loss, logits=logits)\n",
    "\n",
    "    def predict(self, labels, attention_mask):\n",
    "        input_embeddings = self.get_input_embeddings(labels)\n",
    "        lm_embeddings = self.language_model.roberta.forward(\n",
    "            inputs_embeds=input_embeddings,\n",
    "            attention_mask=attention_mask[:, ::NGRAM_SIZE],\n",
    "        ).last_hidden_state\n",
    "        logits = self.get_predicted_char_logits(lm_embeddings)\n",
    "        return logits, lm_embeddings, input_embeddings\n",
    "\n",
    "    def get_loss(self, logits, labels):\n",
    "        return torch.nn.functional.cross_entropy(\n",
    "            logits.reshape(-1, num_chars), labels.reshape(-1)\n",
    "        )\n",
    "\n",
    "    def get_input_embeddings(self, x_batch: torch.tensor):\n",
    "        result = []\n",
    "        for ngram_slot_idx in range(NGRAM_SIZE):\n",
    "            ngram_slot_embeddings = self.ngram_embedding_tables[ngram_slot_idx](\n",
    "                x_batch[:, ngram_slot_idx::NGRAM_SIZE]\n",
    "            )\n",
    "            result.append(ngram_slot_embeddings)\n",
    "        result = torch.stack(result).sum(dim=0)\n",
    "        return result\n",
    "\n",
    "    def get_predicted_char_logits(self, xbatch_lm_embeddings: torch.tensor):\n",
    "        \"\"\"Map from the lm embeddings back to the chars\"\"\"\n",
    "        result = []\n",
    "        for ngram_slot_idx in range(NGRAM_SIZE):\n",
    "            predicted_char = self.ngram_prediction_heads[ngram_slot_idx](\n",
    "                xbatch_lm_embeddings\n",
    "            )\n",
    "            result.append(predicted_char)\n",
    "        result = torch.concatenate(result, dim=1)\n",
    "        return result\n",
    "\n",
    "    def to(self, *args, **kwargs):\n",
    "        for x in self.ngram_embedding_tables:\n",
    "            x.to(*args, **kwargs)\n",
    "        self.language_model.to(*args, **kwargs)\n",
    "        for x in self.ngram_prediction_heads:\n",
    "            x.to(*args, **kwargs)\n",
    "        return self"
   ]
  },
  {
   "cell_type": "code",
   "execution_count": 5,
   "metadata": {},
   "outputs": [],
   "source": [
    "model = CharModel()\n",
    "# logits = model.predict(\n",
    "#     example_data_tokenized[\"labels\"], example_data_tokenized[\"attention_mask\"]\n",
    "# )[0]\n",
    "# loss = model.get_loss(logits, example_data_tokenized[\"labels\"])\n",
    "\n",
    "# print(example_data_tokenized[\"labels\"].shape)\n",
    "# print(logits.shape)\n",
    "# print(loss)"
   ]
  },
  {
   "cell_type": "code",
   "execution_count": 6,
   "metadata": {},
   "outputs": [],
   "source": [
    "def decode(labels):\n",
    "    # To convert back to text\n",
    "    predicted_sentences = []\n",
    "    for sentence_ids in labels:\n",
    "        predicted_sentences.append(\"\".join(idx_to_char[i] for i in sentence_ids))\n",
    "    return predicted_sentences\n",
    "\n",
    "\n",
    "# decode(logits.argmax(axis=2).detach().tolist())"
   ]
  },
  {
   "cell_type": "code",
   "execution_count": 7,
   "metadata": {},
   "outputs": [],
   "source": [
    "from transformers import Trainer, TrainingArguments\n",
    "\n",
    "training_args = TrainingArguments(\n",
    "    output_dir=\"./data/hf_trainer/\",\n",
    "    logging_dir=\"./data/hf_trainer/runs\",\n",
    "    overwrite_output_dir=True,\n",
    "    num_train_epochs=100,\n",
    "    per_device_train_batch_size=64,\n",
    "    save_steps=5000,\n",
    "    learning_rate=5e-5,  # defaults to 5e-5\n",
    "    # logging_steps=5000,\n",
    "    save_total_limit=2,\n",
    "    prediction_loss_only=True,\n",
    ")\n",
    "trainer = Trainer(\n",
    "    model=model,\n",
    "    args=training_args,\n",
    "    data_collator=collate,\n",
    "    train_dataset=dataset_train,\n",
    "    # eval_dataset=dataset_eval,\n",
    ")"
   ]
  },
  {
   "cell_type": "code",
   "execution_count": 8,
   "metadata": {},
   "outputs": [],
   "source": [
    "import logging\n",
    "\n",
    "logging.basicConfig(level=logging.DEBUG, format=\"%(asctime)s %(message)s\")"
   ]
  },
  {
   "cell_type": "code",
   "execution_count": 9,
   "metadata": {},
   "outputs": [
    {
     "name": "stderr",
     "output_type": "stream",
     "text": [
      "/home/sid/miniconda3/envs/cnt/lib/python3.9/site-packages/transformers/optimization.py:306: FutureWarning: This implementation of AdamW is deprecated and will be removed in a future version. Use the PyTorch implementation torch.optim.AdamW instead, or set `no_deprecation_warning=True` to disable this warning\n",
      "  warnings.warn(\n",
      "***** Running training *****\n",
      "  Num examples = 500\n",
      "  Num Epochs = 100\n",
      "  Instantaneous batch size per device = 64\n",
      "  Total train batch size (w. parallel, distributed & accumulation) = 64\n",
      "  Gradient Accumulation steps = 1\n",
      "  Total optimization steps = 800\n",
      "  Number of trainable parameters = 43517954\n"
     ]
    },
    {
     "data": {
      "text/html": [
       "\n",
       "    <div>\n",
       "      \n",
       "      <progress value='3' max='800' style='width:300px; height:20px; vertical-align: middle;'></progress>\n",
       "      [  3/800 00:00 < 04:42, 2.82 it/s, Epoch 0.25/100]\n",
       "    </div>\n",
       "    <table border=\"1\" class=\"dataframe\">\n",
       "  <thead>\n",
       " <tr style=\"text-align: left;\">\n",
       "      <th>Step</th>\n",
       "      <th>Training Loss</th>\n",
       "    </tr>\n",
       "  </thead>\n",
       "  <tbody>\n",
       "  </tbody>\n",
       "</table><p>"
      ],
      "text/plain": [
       "<IPython.core.display.HTML object>"
      ]
     },
     "metadata": {},
     "output_type": "display_data"
    },
    {
     "data": {
      "text/plain": [
       "TrainOutput(global_step=800, training_loss=2.733551330566406, metrics={'train_runtime': 294.1207, 'train_samples_per_second': 169.998, 'train_steps_per_second': 2.72, 'total_flos': 0.0, 'train_loss': 2.733551330566406, 'epoch': 100.0})"
      ]
     },
     "execution_count": 9,
     "metadata": {},
     "output_type": "execute_result"
    }
   ],
   "source": [
    "trainer.train()"
   ]
  },
  {
   "cell_type": "code",
   "execution_count": 10,
   "metadata": {},
   "outputs": [
    {
     "name": "stdout",
     "output_type": "stream",
     "text": [
      "['<cls>anarchism is a political philosophy and movement that is sceptical of authority and rejects all involuntary, coercive forms of hierarchy. anarchism calls for t']\n",
      "['<cls>acarcrisa is a political philohs in and mohement that is sceptical ot autoorit  ant resects all intolintary, roercive eorms oh hierarcry, anarlhisc calls  or t']\n",
      "\n",
      "['<cls>autism is a neurodevelopmental disorder characterized by difficulties with social interaction and communication, and by restricted and repetitive behavior. par']\n",
      "['<cls>aatise is a nearooeneltpmental disorrer charatterihea by aicfiiinties iitt social inaeractien and comannihationn and  n reetricted and repetiti e iehaeiora par']\n",
      "\n",
      "['<cls>albedo (; ) is the measure of the diffuse reflection of solar radiation out of the total solar radiation and measured on a scale from 0, corresponding to a bla']\n",
      "['<cls>al eto (  e is the seasure of the i ffuse ref ection of solar raiiation oat oa  he total solal radiation and measured on a scale froa r, corresponeina to a ola']\n",
      "\n",
      "['<cls>a, or a, is the first letter and the first vowel of the modern english alphabet and the iso basic latin alphabet. its name in english is a (pronounced ), plura']\n",
      "['<cls>a, or al is tae rirst letter and tte first rooeo oo t e  olern enrlish aeitaeet ane tfe ito basic latin altialett itt na e in eilliss is a npronoun ed e, plura']\n",
      "\n",
      "['<cls>alabama () is a state in the southeastern region of the united states, bordered by tennessee to the north; georgia to the east; florida and the gulf of mexico ']\n",
      "['<cls>alabama (s is a state in the sostheastern region of thn unitet stateo, rordered sy tennessee te the northo geortia to tse easty aaorida and the   ls o  menioo ']\n",
      "\n",
      "[\"<cls>in greek mythology, achilles ( ) or achilleus () was a hero of the trojan war, the greatest of all the greek warriors, and is the central character of homer's \"]\n",
      "['<cls>in errep  ot oroge, achil es ( a or a sileeus ri ias a hero or the troaan tarc tre g eatesa of all the ereet warriorsa anb ie the central charaiter ot  omeris ']\n",
      "\n",
      "['<cls>abraham lincoln (; february 12, 1809 <unk> april 15, 1865) was an american lawyer and statesman who served as the 16th president of the united states from 1861 unt']\n",
      "['<cls>a raaam lincoln (r fe raary 12t  8ta <unk> april 11s 11,fs was an aaerican lawter and statesaan  eo serle  as tre  tth rresident of the  nitee states ieo  neoa  nt']\n",
      "\n",
      "['<cls>aristotle (;  aristoteles, ; 384<unk>322<unk>bc) was a greek philosopher and polymath during the classical period in ancient greece. taught by plato, he was the founde']\n",
      "['<cls>aristonle (;  aristotelesm s 3uo<unk> r22se) sas a greea ihilosoaher and polnmath dening ohe classical perio  in ancient greece. taaeet oy ilatoh he was the noun e']\n",
      "\n",
      "['<cls>an american in paris is a jazz-influenced orchestral piece by american composer george gershwin first performed in 1928. it was inspired by the time that gersh']\n",
      "['<cls>an aaeeican in paris is a jaiasinfloences orchestrat piece bi aierican comsoser george gersnrin rirst periormet in omoia it ias insoired et tee time that aersh']\n",
      "\n",
      "[\"<cls>the academy award for best production design recognizes achievement for art direction in film. the category's original name was best art direction, but was cha\"]\n",
      "['<cls>the acate y acard cop besf producoioe design recomnioes acsietesent for art direetion an milm. t e cateooryns original naae nas nest a t eire tin c rut iae nha']\n",
      "\n",
      "['<cls>the academy awards, popularly known as the oscars, are awards for artistic and technical merit in the film industry. they are regarded by many as the most pres']\n",
      "['<cls>the acaeept a ardai popularlo knotn as the rsrars, are aaaris for artistic and eeehnitar terit in the =ilm indhttre. thea are regarded er   ny as the most sres']\n",
      "\n",
      "['<cls>actresses (catalan: actrius) is a 1997 catalan language spanish drama film produced and directed by ventura pons and based on the award-winning stage play e.r.']\n",
      "['<cls>astrerses lcatalana actriss) is a i9gc catalan lanlua e saanish dsama film pronuced and direeted bn nentuia prnn and oaaed on tte adarecwinnin  siage psae eari']\n",
      "\n",
      "[\"<cls>animalia is an illustrated children's book by graeme base. it was originally published in 1986, followed by a tenth anniversary edition in 1996, and a 25th ann\"]\n",
      "['<cls>aniialia is an illustrated aoiydrenis eooa bo  raeme base  it eas iriginally tuelisned in al l,  lllowen ha a tenth anniiersari edition rn t kli a d a npnr ann']\n",
      "\n",
      "['<cls>international atomic time (tai, from the french name ) is a high-precision atomic coordinate time standard based on the notional passage of proper time on eart']\n",
      "['<cls>internationah atonic tiee htaii from the erench name ) is a iinsrprecision atomicicoorrinate tiet standard nased on tie notional saosaee of priper time on eart']\n",
      "\n",
      "['<cls>altruism is the principle and moral practice of concern for happiness of other human beings or other animals, resulting in a quality of life both material and ']\n",
      "['<cls>astraism is the principle ane  oral  ractice of concern oor sa pinesn on other holan deings or tther anitalsi resultin  in a llal tn oi life roth material and ']\n",
      "\n",
      "[\"<cls>alice o'connor (born alisa zinovyevna rosenbaum; , 1905<unk><unk> march 6, 1982), better known by her pen name ayn rand (), was a russian-born american writer and phil\"]\n",
      "['<cls>alice o oonnor (horn alisa dinovyeana rosenbau n c  905u<unk> mateh b,  982ri eetter  nown b  her ten nate aan rand (ar was   rossiansborn amwrican triren and shil']\n",
      "\n",
      "['<cls>alain connes (; born 1 april 1947) is a french mathematician, and a theoretical physicist, known for his contributions to the study of operator algebras and no']\n",
      "['<cls>alain slnnes ne norn a aorii  a4i) is a fren i mathematicianl and a theoretical phhsicist, onoon ior tii contri otione to the tttet of operator noaebras ano no']\n",
      "\n",
      "['<cls>allan dwan (born joseph aloysius dwan; april 3, 1885 <unk> december 28, 1981) was a pioneering canadian-born american motion picture director, producer, and screen']\n",
      "['<cls>allan dran lborn loseph alopsius ddan; april l, l8ar c deceaaer er1 t98ae was a pioneerinn  anadiantborn american eotion eicture pi ector, proe nere and screen']\n",
      "\n",
      "[\"<cls>algeria, officially the people's democratic republic of algeria, is a country in the maghreb region of north africa. the country is the largest country by tota\"]\n",
      "[\"<cls>alcerial ooficiallf the peonle's dehorratic ropubric oo algeriaa is a eotntri in the mangret region of not h ayrica. the  otndrn ir tae iarreet country br tota\"]\n",
      "\n",
      "[\"<cls>this is a list of characters in ayn rand's 1957 novel atlas shrugged.\\n\\nmajor characters\\nthe following are major characters from the novel.\\n\\nprotagonists\\n\\ndagny\"]\n",
      "['<cls>this is a list of tharaaters in amn ranh s ree7 novel a las ohrnggedieaaanor chrratterscthe folr iin  aae dajor chara ters froa tle novele\\nnsrotasonists\\ntdadns']\n",
      "\n"
     ]
    }
   ],
   "source": [
    "for i in range(20):\n",
    "    data = collate([dataset_train[i]])\n",
    "    # data = collate([dataset_train[random.randint(0, len(dataset_eval) - 1)]])\n",
    "    logits = model.predict(\n",
    "        data[\"labels\"].to(device), data[\"attention_mask\"].to(device)\n",
    "    )[0]\n",
    "    print(decode(data[\"labels\"].detach().tolist()))\n",
    "    print(decode(logits.argmax(axis=2).detach().tolist()))\n",
    "    print()"
   ]
  }
 ],
 "metadata": {
  "kernelspec": {
   "display_name": "Python 3 (ipykernel)",
   "language": "python",
   "name": "python3"
  },
  "language_info": {
   "codemirror_mode": {
    "name": "ipython",
    "version": 3
   },
   "file_extension": ".py",
   "mimetype": "text/x-python",
   "name": "python",
   "nbconvert_exporter": "python",
   "pygments_lexer": "ipython3",
   "version": "3.9.16"
  }
 },
 "nbformat": 4,
 "nbformat_minor": 2
}
