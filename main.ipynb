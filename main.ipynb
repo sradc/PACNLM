{
 "cells": [
  {
   "cell_type": "code",
   "execution_count": 67,
   "metadata": {},
   "outputs": [
    {
     "name": "stdout",
     "output_type": "stream",
     "text": [
      "True\n",
      "1\n",
      "cpu\n"
     ]
    }
   ],
   "source": [
    "import string\n",
    "\n",
    "import torch\n",
    "\n",
    "# device = torch.device(\"cuda\" if torch.cuda.is_available() else \"cpu\")\n",
    "device = \"cpu\"\n",
    "\n",
    "print(torch.cuda.is_available())\n",
    "print(torch.cuda.device_count())\n",
    "print(device)"
   ]
  },
  {
   "cell_type": "code",
   "execution_count": 68,
   "metadata": {},
   "outputs": [
    {
     "data": {
      "text/plain": [
       "tensor([[ 43,  18,  75,  75, 101, 101, 100, 100, 100, 103, 103, 103, 103, 103,\n",
       "         103],\n",
       "        [ 55,  17,  18,  28,  94,  18,  28,  94,  10,  94,  28,  14,  12,  24,\n",
       "          23]], dtype=torch.int32)"
      ]
     },
     "execution_count": 68,
     "metadata": {},
     "output_type": "execute_result"
    }
   ],
   "source": [
    "EOS = \"eos\"\n",
    "PAD_1 = \"pad1\"\n",
    "UNK = \"unk\"\n",
    "PAD_2 = \"pad2\"\n",
    "\n",
    "CHAR_TOKENS: list[str] = list(string.printable) + [EOS, PAD_1, UNK, PAD_2]\n",
    "NGRAM_SIZE: int = 3\n",
    "HIDDEN_SIZE: int = 768\n",
    "MAX_SEQ_LEN = 16\n",
    "\n",
    "\n",
    "num_chars = len(CHAR_TOKENS)\n",
    "char_to_idx = {c: i for i, c in enumerate(CHAR_TOKENS)}\n",
    "\n",
    "\n",
    "def tokenize(seq: str):\n",
    "    seq = list(seq)\n",
    "    # Pad such that len(seq) is divisible by NGRAM_SIZE\n",
    "    if len(seq) % NGRAM_SIZE > 0:\n",
    "        seq += [PAD_1] * (NGRAM_SIZE - (len(seq) % NGRAM_SIZE))\n",
    "    seq += [EOS] * NGRAM_SIZE\n",
    "    return torch.tensor([char_to_idx[c] for c in seq])\n",
    "\n",
    "\n",
    "def collate(tokenized_seqs: list[torch.tensor]):\n",
    "    \"\"\"Pad short seqs, truncate long seqs.\"\"\"\n",
    "    tokenized_seqs = [tokenize(x)[: MAX_SEQ_LEN - 1] for x in example_data]\n",
    "    max_len = max(x.shape[-1] for x in tokenized_seqs)\n",
    "    result = torch.full(\n",
    "        size=[len(tokenized_seqs), max_len],\n",
    "        fill_value=char_to_idx[PAD_2],\n",
    "        dtype=torch.int,\n",
    "    )\n",
    "    for i, x in enumerate(tokenized_seqs):\n",
    "        result[i, 0 : len(x)] = x\n",
    "    return result\n",
    "\n",
    "\n",
    "example_data = [\"Hi..\", \"This is a second sentence.\"]\n",
    "example_x_batch = collate([tokenize(s) for s in example_data])\n",
    "example_x_batch"
   ]
  },
  {
   "cell_type": "code",
   "execution_count": 69,
   "metadata": {},
   "outputs": [],
   "source": [
    "# An embedding table for each slot in the the ngram, (e.g. 0, 1, 2 for a NGRAM_SIZE=3).\n",
    "ngram_embeddings = [\n",
    "    torch.nn.Embedding(num_embeddings=num_chars, embedding_dim=HIDDEN_SIZE)\n",
    "    for _ in range(NGRAM_SIZE)\n",
    "]"
   ]
  },
  {
   "cell_type": "code",
   "execution_count": 86,
   "metadata": {},
   "outputs": [
    {
     "data": {
      "text/plain": [
       "torch.Size([2, 5, 768])"
      ]
     },
     "execution_count": 86,
     "metadata": {},
     "output_type": "execute_result"
    }
   ],
   "source": [
    "def get_input_embeddings(x_bash: torch.tensor):\n",
    "    x_batch = example_x_batch\n",
    "    result = []\n",
    "    for ngram_slot_idx in range(NGRAM_SIZE):\n",
    "        ngram_slot_embeddings = ngram_embeddings[ngram_slot_idx](\n",
    "            x_batch[:, ngram_slot_idx::NGRAM_SIZE]\n",
    "        )\n",
    "        result.append(ngram_slot_embeddings)\n",
    "    result = torch.stack(result).sum(dim=0)\n",
    "    return result\n",
    "\n",
    "example_input_embeddings = get_input_embeddings(example_x_batch)\n",
    "example_input_embeddings.shape"
   ]
  },
  {
   "cell_type": "code",
   "execution_count": 82,
   "metadata": {},
   "outputs": [],
   "source": [
    "from transformers import RobertaConfig, RobertaForMaskedLM\n",
    "\n",
    "model = RobertaForMaskedLM(\n",
    "    config=RobertaConfig(\n",
    "        vocab_size=2,  # won't use\n",
    "        hidden_size=HIDDEN_SIZE,  # default 768\n",
    "        max_position_embeddings=514,\n",
    "        num_attention_heads=12,\n",
    "        num_hidden_layers=6,\n",
    "        type_vocab_size=1,\n",
    "        attention_probs_dropout_prob=0,\n",
    "        hidden_dropout_prob=0,\n",
    "    )\n",
    ")"
   ]
  },
  {
   "cell_type": "code",
   "execution_count": 87,
   "metadata": {},
   "outputs": [],
   "source": [
    "lm_embeddings = model.roberta.forward(inputs_embeds=example_input_embeddings).last_hidden_state"
   ]
  }
 ],
 "metadata": {
  "kernelspec": {
   "display_name": "cnt",
   "language": "python",
   "name": "python3"
  },
  "language_info": {
   "codemirror_mode": {
    "name": "ipython",
    "version": 3
   },
   "file_extension": ".py",
   "mimetype": "text/x-python",
   "name": "python",
   "nbconvert_exporter": "python",
   "pygments_lexer": "ipython3",
   "version": "3.9.16"
  },
  "orig_nbformat": 4
 },
 "nbformat": 4,
 "nbformat_minor": 2
}
